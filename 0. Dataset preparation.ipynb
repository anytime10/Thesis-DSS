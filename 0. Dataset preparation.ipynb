{
 "cells": [
  {
   "cell_type": "code",
   "execution_count": 1,
   "metadata": {},
   "outputs": [],
   "source": [
    "import pandas as pd"
   ]
  },
  {
   "cell_type": "code",
   "execution_count": 2,
   "metadata": {},
   "outputs": [
    {
     "data": {
      "text/plain": [
       "True"
      ]
     },
     "execution_count": 2,
     "metadata": {},
     "output_type": "execute_result"
    }
   ],
   "source": [
    "# function to check whether a given variable is in the PISA database\n",
    "def check_variable(input_col, variable, codebook = pd.read_excel('CY08MSP_CODEBOOK_27thJune24.xlsx', sheet_name = 'CY08MSP_STU_QQQ')): # change the file name and sheet name accordingly\n",
    "     is_there = False \n",
    "     for var in codebook[input_col]:\n",
    "         if pd.isna(var):\n",
    "             continue\n",
    "         elif var.strip() == variable.strip():\n",
    "             is_there = True\n",
    "             break\n",
    "     return is_there\n",
    "check_variable(\"NAME\", \"BULLIED\")"
   ]
  },
  {
   "cell_type": "markdown",
   "metadata": {},
   "source": [
    "The dataset used for the analyses will be constructed from the two main datasets from PISA (school df and student df). Since these datasets countain many features, a first selection is made based on literature and research interest."
   ]
  },
  {
   "cell_type": "code",
   "execution_count": 3,
   "metadata": {},
   "outputs": [],
   "source": [
    "# columns of interest in the student and school dfs:\n",
    "st_cols= ['CNTSCHID','CNTSTUID', 'ICTRES', 'FAMSUPSL','FEELLAH', 'PROBSELF', 'PROGN',\n",
    "        'SCHSUST','LEARRES', 'ESCS', 'PV1MATH','REPEAT', \n",
    "        'IMMIG', 'LANGN', 'FAMSUP', 'ST004D01T', 'HISCED', 'ST002Q01TA', 'BULLIED', 'BELONG', 'ANXMAT', 'COOPAGR', 'EMOCOAGR', 'PERSEVAGR', 'STRESAGR'] \n",
    "\n",
    "sch_cols = ['CNT','CNTSCHID','SCHLTYPE', 'CLSIZE', 'RATCMP1', 'SCHAUTO', \n",
    "            'TCHPART', 'EDUSHORT','STAFFSHORT', 'STUBEHA','TEACHBEHA', 'SC037Q02TA', \n",
    "            'SC187Q04WA','SC001Q01TA', 'PROPSUPP', 'SCHSIZE', 'PROATCE', 'SCSUPRTED','INSTLEAD', \n",
    "            'PROBSCRI', 'SCPREPAP','DIGPREP', 'SC180Q01JA', 'SC218Q01JA', 'SC218Q01JA', 'SC011Q01TA']"
   ]
  },
  {
   "cell_type": "code",
   "execution_count": 4,
   "metadata": {},
   "outputs": [
    {
     "name": "stdout",
     "output_type": "stream",
     "text": [
      "(21629, 25)\n",
      "(613744, 24)\n"
     ]
    }
   ],
   "source": [
    "# loading the school and student df:\n",
    "school_df_2022 = pd.read_spss('datasets/sch_22_qq.sav', usecols = sch_cols)\n",
    "student_df_2022 = pd.read_spss('datasets/stu_22_qq.sav', usecols= st_cols)\n",
    "print(school_df_2022.shape)\n",
    "print(student_df_2022.shape)"
   ]
  },
  {
   "cell_type": "code",
   "execution_count": 6,
   "metadata": {},
   "outputs": [
    {
     "name": "stdout",
     "output_type": "stream",
     "text": [
      "(613744, 48)\n"
     ]
    }
   ],
   "source": [
    "# merging the two datasets: \n",
    "data_merged = pd.merge(student_df_2022, school_df_2022, on= 'CNTSCHID') \n",
    "print(data_merged.shape)"
   ]
  },
  {
   "cell_type": "code",
   "execution_count": 7,
   "metadata": {},
   "outputs": [
    {
     "data": {
      "text/plain": [
       "(10552, 48)"
      ]
     },
     "execution_count": 7,
     "metadata": {},
     "output_type": "execute_result"
    }
   ],
   "source": [
    "# select Italy from countries:\n",
    "data_2022 = data_merged[data_merged['CNT'] =='Italy']\n",
    "data_2022.shape"
   ]
  },
  {
   "cell_type": "code",
   "execution_count": 8,
   "metadata": {},
   "outputs": [],
   "source": [
    "# dropping country column since we don't need it anymore\n",
    "data_2022 = data_2022.drop(['CNT'], axis=1)"
   ]
  },
  {
   "cell_type": "code",
   "execution_count": 10,
   "metadata": {},
   "outputs": [],
   "source": [
    "# saving data_22 to csv for convenience: \n",
    "data_2022.to_csv('datasets/italy_2022.csv', index = False)"
   ]
  }
 ],
 "metadata": {
  "kernelspec": {
   "display_name": "base",
   "language": "python",
   "name": "python3"
  },
  "language_info": {
   "codemirror_mode": {
    "name": "ipython",
    "version": 3
   },
   "file_extension": ".py",
   "mimetype": "text/x-python",
   "name": "python",
   "nbconvert_exporter": "python",
   "pygments_lexer": "ipython3",
   "version": "3.9.13"
  }
 },
 "nbformat": 4,
 "nbformat_minor": 4
}
