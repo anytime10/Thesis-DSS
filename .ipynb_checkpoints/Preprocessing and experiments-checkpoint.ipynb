{
 "cells": [
  {
   "cell_type": "code",
   "execution_count": 63,
   "metadata": {},
   "outputs": [],
   "source": [
    "import pandas as pd\n",
    "import numpy as np\n",
    "import matplotlib.pyplot as plt\n",
    "import seaborn as sns\n",
    "import math\n",
    "import time\n",
    "import joblib\n",
    "import pickle\n",
    "import rpy2.robjects as robjects\n",
    "from mlxtend.plotting import scatterplotmatrix\n",
    "from rpy2.robjects.packages import importr\n",
    "from rpy2.robjects import pandas2ri\n",
    "from sklearn.pipeline import Pipeline\n",
    "from sklearn.preprocessing import StandardScaler, MinMaxScaler, RobustScaler, OneHotEncoder,OrdinalEncoder, FunctionTransformer\n",
    "from sklearn.model_selection import train_test_split,  StratifiedKFold, GroupKFold\n",
    "from sklearn.impute import SimpleImputer, KNNImputer\n",
    "from sklearn.decomposition import PCA\n",
    "from sklearn.cluster import KMeans\n",
    "from sklearn.compose import ColumnTransformer\n",
    "from sklearn.experimental import enable_iterative_imputer\n",
    "from sklearn.impute import IterativeImputer\n",
    "from sklearn.base import BaseEstimator, TransformerMixin\n",
    "from sklearn import set_config\n",
    "from sklearn.feature_selection import SelectKBest, mutual_info_regression, RFE\n",
    "from boruta import BorutaPy\n",
    "from yellowbrick.model_selection import learning_curve\n",
    "from sklearn.model_selection import GridSearchCV, cross_val_score, cross_val_predict, GroupShuffleSplit\n",
    "import statsmodels.api as sm\n",
    "import statsmodels.formula.api as smf\n",
    "from sklearn.ensemble import RandomForestRegressor\n",
    "from sklearn.tree import DecisionTreeRegressor\n",
    "from xgboost import XGBRegressor\n",
    "from sklearn.linear_model import Lasso\n",
    "from sklearn.metrics import mean_squared_error, mean_absolute_error, r2_score"
   ]
  },
  {
   "cell_type": "code",
   "execution_count": 2,
   "metadata": {},
   "outputs": [
    {
     "name": "stdout",
     "output_type": "stream",
     "text": [
      "c:\\Users\\mw\\Desktop\\Thesis DSS\\data\n"
     ]
    }
   ],
   "source": [
    "import os\n",
    "filepath = r'C:\\Users\\mw\\Desktop\\Thesis DSS\\data'\n",
    "os.chdir(filepath)\n",
    "print(os.getcwd())"
   ]
  },
  {
   "cell_type": "code",
   "execution_count": 3,
   "metadata": {},
   "outputs": [],
   "source": [
    "df = pd.read_csv('italy_2022_filtered.csv')"
   ]
  },
  {
   "cell_type": "code",
   "execution_count": 4,
   "metadata": {},
   "outputs": [
    {
     "data": {
      "text/plain": [
       "PROBSELF                  0.242703\n",
       "SCHSUST                   0.228772\n",
       "PROBSCRI                  0.137604\n",
       "SCSUPRTED                 0.137225\n",
       "FAMSUP                    0.109553\n",
       "PROATCE                   0.103487\n",
       "disadvantaged_students    0.088135\n",
       "RATCMP1                   0.083681\n",
       "external_evaluation       0.075910\n",
       "STRATIO                   0.075436\n",
       "SMRATIO                   0.066528\n",
       "math_grouping             0.065011\n",
       "STAFFSHORT                0.062547\n",
       "INSTLEAD                  0.062453\n",
       "DIGPREP                   0.062453\n",
       "EDUSHORT                  0.059041\n",
       "SCHAUTO                   0.058567\n",
       "PROPSUPP                  0.057146\n",
       "STUBEHA                   0.056198\n",
       "TEACHBEHA                 0.056198\n",
       "SCHSIZE                   0.054018\n",
       "CLSIZE                    0.049280\n",
       "TEACHSUP                  0.042362\n",
       "municipality_size         0.038097\n",
       "IMMIG                     0.025682\n",
       "HISCED                    0.014879\n",
       "ESCS                      0.009572\n",
       "REPEAT                    0.008908\n",
       "HOMEPOS                   0.004644\n",
       "SCHLTYPE                  0.004549\n",
       "dtype: float64"
      ]
     },
     "execution_count": 4,
     "metadata": {},
     "output_type": "execute_result"
    }
   ],
   "source": [
    "# computing proportion of missing data in df:\n",
    "missing_data = df.isnull().sum()\n",
    "missing_data = missing_data[missing_data > 0]\n",
    "missing_data = missing_data / df.shape[0]\n",
    "missing_data = missing_data.sort_values(ascending=False)\n",
    "missing_data"
   ]
  },
  {
   "cell_type": "markdown",
   "metadata": {},
   "source": [
    "# Fixing some categories and appying basic transformations"
   ]
  },
  {
   "cell_type": "code",
   "execution_count": 5,
   "metadata": {},
   "outputs": [
    {
     "data": {
      "text/plain": [
       "Italian                                                                                           7423\n",
       "A dialect (ITA)                                                                                   1382\n",
       "Another language (ITA)                                                                             726\n",
       "German                                                                                             653\n",
       "Another EU language (ITA)                                                                          163\n",
       "Another language officially accepted in Italy (Ladino in Alto Adige and French in Val d'Aosta)     117\n",
       "Missing                                                                                             79\n",
       "Slovenian                                                                                            9\n",
       "Name: LANGN, dtype: int64"
      ]
     },
     "execution_count": 5,
     "metadata": {},
     "output_type": "execute_result"
    }
   ],
   "source": [
    "df['LANGN'].value_counts()"
   ]
  },
  {
   "cell_type": "code",
   "execution_count": 6,
   "metadata": {},
   "outputs": [
    {
     "data": {
      "text/plain": [
       "Italian    7423\n",
       "other      3050\n",
       "Missing      79\n",
       "Name: LANGN, dtype: int64"
      ]
     },
     "execution_count": 6,
     "metadata": {},
     "output_type": "execute_result"
    }
   ],
   "source": [
    "# since the LANGN column has too many categories we simplify it:\n",
    "def simplify_language(lang):\n",
    "    if lang == 'Italian' or lang == 'Missing' or pd.isna(lang):\n",
    "        return lang\n",
    "    else:\n",
    "        return 'other'\n",
    "\n",
    "df['LANGN'] = df['LANGN'].apply(lambda x: simplify_language(x))\n",
    "df['LANGN'].value_counts()"
   ]
  },
  {
   "cell_type": "code",
   "execution_count": 7,
   "metadata": {},
   "outputs": [],
   "source": [
    "# make 'Missing' category in LANGN column as NaN:\n",
    "df['LANGN'] = df['LANGN'].replace('Missing', np.nan)"
   ]
  },
  {
   "cell_type": "code",
   "execution_count": 8,
   "metadata": {},
   "outputs": [],
   "source": [
    "'''transforming covid related variables into dummies given the high rate of missing values. Dummy that takes the value of 0 if \n",
    "the value is missing and 1 otherwise (I will experiment with both imputed columns and transformed columns):'''\n",
    "\n",
    "covid_cols = ['PROBSELF' ,'SCHSUST']\n",
    "df_copy = df.copy(deep = True)\n",
    "for col in covid_cols:\n",
    "    df_copy[col] = df_copy[col].apply(lambda x: 0 if math.isnan(x) else 1)"
   ]
  },
  {
   "cell_type": "code",
   "execution_count": 9,
   "metadata": {},
   "outputs": [
    {
     "name": "stdout",
     "output_type": "stream",
     "text": [
      "Number of columns affected by the transformation: 0\n"
     ]
    }
   ],
   "source": [
    "# ensuring all continuos columns contain indeed numeric data:\n",
    "continuous_columns = df.select_dtypes(include=['float64', 'int64']).columns.tolist()\n",
    "nan_counts_before = df[continuous_columns].isna().sum()\n",
    "for column in continuous_columns:\n",
    "    df[column] = pd.to_numeric(df[column], errors='coerce')\n",
    "\n",
    "nan_counts_after = df[continuous_columns].isna().sum()\n",
    "affected_columns = nan_counts_after[nan_counts_after != nan_counts_before].index.tolist()\n",
    "print(\"Number of columns affected by the transformation:\", len(affected_columns))"
   ]
  },
  {
   "cell_type": "code",
   "execution_count": 10,
   "metadata": {},
   "outputs": [],
   "source": [
    "# ordering categories inside ordinal columns:\n",
    "iscedp_categories = [ '244 : Lower secondary education, General, Sufficient for level completion, with direct access to upper secondary educati',\n",
    "                     '354 : Upper secondary education, Vocational, Sufficient for level completion, with direct access to tertiary education',\n",
    "                     '344 : Upper secondary education, General, Sufficient for level completion, with direct access to tertiary education']\n",
    "hisced_categories = ['Less than ISCED Level 1', 'ISCED level 1', 'ISCED level 2', 'ISCED level 3.3', 'ISCED level 3.4', 'ISCED level 4', \n",
    "                     'ISCED level 5', 'ISCED level 6', 'ISCED level 7', 'ISCED level 8']\n",
    "clsize_categories = ['15 students or fewer','16-20 students','21-25 students','26-30 students','46-50 students','More than 50 students']\n",
    "scsuprted_categories = ['No support from education authorities','Some support from education authorities','A lot of support from education authorities']\n",
    "math_grouping_categories = ['Not for any classes', 'For some classes','For all classes']"
   ]
  },
  {
   "cell_type": "code",
   "execution_count": 11,
   "metadata": {},
   "outputs": [],
   "source": [
    "# ordinal encoding of the ordinal columns:\n",
    "df.replace({\n",
    "    'ISCEDP': {category: i+1 for i, category in enumerate(iscedp_categories)},\n",
    "    'HISCED': {category: i+1 for i, category in enumerate(hisced_categories)},\n",
    "    'CLSIZE': {category: i+1 for i, category in enumerate(clsize_categories)},\n",
    "    'SCSUPRTED': {category: i+1 for i, category in enumerate(scsuprted_categories)},\n",
    "    'math_grouping': {category: i+1 for i, category in enumerate(math_grouping_categories)}\n",
    "}, inplace=True)"
   ]
  },
  {
   "cell_type": "code",
   "execution_count": 12,
   "metadata": {},
   "outputs": [],
   "source": [
    "df.to_csv('italy_2.csv', index = False)"
   ]
  },
  {
   "cell_type": "markdown",
   "metadata": {},
   "source": [
    "# Train-Test Split"
   ]
  },
  {
   "cell_type": "code",
   "execution_count": 36,
   "metadata": {},
   "outputs": [
    {
     "name": "stdout",
     "output_type": "stream",
     "text": [
      "No overlap in groups. All good!\n"
     ]
    }
   ],
   "source": [
    "# train-test split is performed ensuring that the test set contains only students from schools that are not present in the training set:\n",
    "X = df.drop(['PV1MATH', 'studentID', 'schoolID'], axis=1).copy()\n",
    "y = df['PV1MATH'].copy()\n",
    "groups = df['schoolID'].copy()\n",
    "\n",
    "gss = GroupShuffleSplit(n_splits=1, test_size=0.2, random_state=42)\n",
    "train_idx, test_idx = next(gss.split(X, y, groups))\n",
    "\n",
    "X_train, X_test = X.iloc[train_idx].copy(), X.iloc[test_idx].copy()\n",
    "y_train, y_test = y.iloc[train_idx].copy(), y.iloc[test_idx].copy()\n",
    "id_train, id_test = df[['studentID', 'schoolID']].iloc[train_idx], df[['studentID', 'schoolID']].iloc[test_idx]\n",
    "\n",
    "# Check which groups are in each set to confirm no overlap\n",
    "train_school_ids = set(id_train['schoolID'].unique())\n",
    "test_school_ids = set(id_test['schoolID'].unique())\n",
    "common_ids = train_school_ids.intersection(test_school_ids)\n",
    "\n",
    "if common_ids:\n",
    "    print(\"Error: There are common schools in both training and testing sets!\")\n",
    "else:\n",
    "    print(\"No overlap in groups. All good!\")"
   ]
  },
  {
   "cell_type": "markdown",
   "metadata": {},
   "source": [
    "# Imputing Missing values and Preprocessing"
   ]
  },
  {
   "cell_type": "code",
   "execution_count": 30,
   "metadata": {},
   "outputs": [],
   "source": [
    "# function that imputes missing values according to some criteria\n",
    "def custom_impute(df):\n",
    "    numeric_columns = [col for col in df.columns if pd.api.types.is_numeric_dtype(df[col])]\n",
    "    \n",
    "    for column in df.columns:\n",
    "        missing_rate = df[column].isna().mean() * 100\n",
    "        if missing_rate == 0:\n",
    "            continue\n",
    "        if column in numeric_columns:\n",
    "            if missing_rate < 5.0:\n",
    "                imputer = SimpleImputer(strategy='median')\n",
    "            else:\n",
    "                imputer = KNNImputer(n_neighbors=10)\n",
    "        else:\n",
    "            imputer = SimpleImputer(strategy='most_frequent')\n",
    "\n",
    "        df[column] = imputer.fit_transform(df[[column]])\n",
    "\n",
    "    return df\n",
    "# wrapping the function into FunctionTransformer\n",
    "transformer_na = FunctionTransformer(custom_impute, validate=False)"
   ]
  },
  {
   "cell_type": "code",
   "execution_count": 31,
   "metadata": {},
   "outputs": [],
   "source": [
    "# grouping columns based on preprocessing method:\n",
    "columns_to_robust_scale = ['EDUSHORT','STAFFSHORT','SCHSIZE','TEACHSUP','FAMSUP']\n",
    "columns_to_scale = ['HOMEPOS','ESCS','STUBEHA','TEACHBEHA','INSTLEAD','DIGPREP', 'SCHSUST','PROBSELF'] \n",
    "columns_to_normalize = ['SMRATIO','PROPSUPP','PROATCE','disadvantaged_students','SCHAUTO', 'GRADE', 'STRATIO', 'RATCMP1','PROBSCRI']\n",
    "one_hot_cols = ['IMMIG','municipality_size','SCHLTYPE','external_evaluation','Gender', 'REPEAT','LANGN']\n",
    "ordinal_columns = ['ISCEDP','HISCED','CLSIZE','SCSUPRTED','math_grouping']"
   ]
  },
  {
   "cell_type": "code",
   "execution_count": 32,
   "metadata": {},
   "outputs": [],
   "source": [
    "# defining column transformer object:\n",
    "transformers = [\n",
    "    ('one_hot', OneHotEncoder(drop = 'first',handle_unknown='ignore'), one_hot_cols),\n",
    "    ('scaler', StandardScaler(), columns_to_scale),\n",
    "    ('min_max_scaler', MinMaxScaler(), columns_to_normalize),\n",
    "    ('robust_scaler', RobustScaler(), columns_to_robust_scale)\n",
    "]\n",
    "ct = ColumnTransformer(transformers=transformers, remainder='passthrough')"
   ]
  },
  {
   "cell_type": "code",
   "execution_count": 33,
   "metadata": {},
   "outputs": [],
   "source": [
    "# fitting pipeline to train data and then transforming both train and test data:\n",
    "pipeline = Pipeline([\n",
    "    ('imputer', transformer_na),\n",
    "    ('preprocessor', ct)\n",
    "])\n",
    "pipeline.fit(X_train)\n",
    "X_train_preprocessed = pipeline.transform(X_train)\n",
    "X_test_preprocessed = pipeline.transform(X_test)"
   ]
  },
  {
   "cell_type": "markdown",
   "metadata": {},
   "source": [
    "Note: we will fit a separate pipeline for XGBoost as this does not require imputing missing values."
   ]
  },
  {
   "cell_type": "markdown",
   "metadata": {},
   "source": [
    "# Experiments and variable selection"
   ]
  },
  {
   "cell_type": "code",
   "execution_count": 50,
   "metadata": {},
   "outputs": [],
   "source": [
    "# defining pipelines for different models:\n",
    "pipeline_xgb = Pipeline([\n",
    "    ('preprocessor', ct),\n",
    "    ('xgb', XGBRegressor(n_jobs=-1, random_state=42))\n",
    "])"
   ]
  },
  {
   "cell_type": "code",
   "execution_count": 38,
   "metadata": {},
   "outputs": [],
   "source": [
    "pipeline_rf = Pipeline([\n",
    "    ('selection', SelectKBest(mutual_info_regression)),\n",
    "    ('rf_regression', RandomForestRegressor())\n",
    "         ])"
   ]
  },
  {
   "cell_type": "code",
   "execution_count": 47,
   "metadata": {},
   "outputs": [],
   "source": [
    "# defining the search space of the algorithms:\n",
    "param_grid_lasso = {\n",
    "    'alpha': [0.001, 0.1, 0.5, 1.0]\n",
    "}\n",
    "\n",
    "param_grid_rf = {\n",
    "    'rf_regression__n_estimators': [100, 200, 300],\n",
    "    'rf_regression__max_depth': [3, 6, 10],\n",
    "    'rf_regression__min_samples_split': [2, 5,10]\n",
    "}\n",
    "\n",
    "param_grid_xgb = {\n",
    "    'xgb__n_estimators': [100, 200, 300],\n",
    "    'xgb__max_depth': [6, 10, 20],\n",
    "    'xgb__learning_rate': [0.001,0.01,0.05, 0.1, 0.3],\n",
    "    'xgb__reg_lambda': [0, 1.0,10.0]\n",
    "}"
   ]
  },
  {
   "cell_type": "code",
   "execution_count": null,
   "metadata": {},
   "outputs": [],
   "source": [
    "# NB: remember to set return_train_score=True to get training scores"
   ]
  },
  {
   "cell_type": "code",
   "execution_count": 45,
   "metadata": {},
   "outputs": [
    {
     "name": "stdout",
     "output_type": "stream",
     "text": [
      "Fitting 5 folds for each of 4 candidates, totalling 20 fits\n",
      "Best parameters for Lasso regression: {'alpha': 0.5}\n"
     ]
    }
   ],
   "source": [
    "gkf = GroupKFold(n_splits=5)\n",
    "grid_search_lasso = GridSearchCV(Lasso(), param_grid_lasso, cv=gkf, n_jobs=-1, scoring='r2', verbose=1)\n",
    "grid_search_lasso.fit(X_train_preprocessed, y_train, groups = groups.iloc[train_idx])\n",
    "print(\"Best parameters for Lasso regression:\", grid_search_lasso.best_params_)"
   ]
  },
  {
   "cell_type": "code",
   "execution_count": 95,
   "metadata": {},
   "outputs": [
    {
     "data": {
      "image/png": "[encoded data removed]",
      "text/plain": [
       "<Figure size 800x550 with 1 Axes>"
      ]
     },
     "metadata": {},
     "output_type": "display_data"
    }
   ],
   "source": [
    "results_lasso = pd.DataFrame(grid_search_lasso.cv_results_)\n",
    "scores = results_lasso['mean_test_score'].unique().tolist()\n",
    "scores.sort(reverse=True)\n",
    "\n",
    "plt.hist(scores, bins=4, color='lightgreen', edgecolor='black') \n",
    "plt.title('Histogram of Lasso R² Scores')\n",
    "plt.xlabel('R² Score')\n",
    "plt.ylabel('Frequency')\n",
    "plt.grid(True)\n",
    "plt.show()"
   ]
  },
  {
   "cell_type": "code",
   "execution_count": 48,
   "metadata": {},
   "outputs": [
    {
     "name": "stdout",
     "output_type": "stream",
     "text": [
      "Fitting 5 folds for each of 27 candidates, totalling 135 fits\n"
     ]
    },
    {
     "data": {
      "text/plain": [
       "GridSearchCV(cv=GroupKFold(n_splits=5),\n",
       "             estimator=Pipeline(steps=[('selection',\n",
       "                                        SelectKBest(score_func=<function mutual_info_regression at 0x000001845F030DC0>)),\n",
       "                                       ('rf_regression',\n",
       "                                        RandomForestRegressor())]),\n",
       "             n_jobs=-1,\n",
       "             param_grid={'rf_regression__max_depth': [3, 6, 10],\n",
       "                         'rf_regression__min_samples_split': [2, 5, 10],\n",
       "                         'rf_regression__n_estimators': [100, 200, 300]},\n",
       "             scoring='r2', verbose=1)"
      ]
     },
     "execution_count": 48,
     "metadata": {},
     "output_type": "execute_result"
    }
   ],
   "source": [
    "grid_search_rf = GridSearchCV(pipeline_rf, param_grid_rf, cv=gkf, n_jobs=-1, scoring='r2', verbose=1)\n",
    "grid_search_rf.fit(X_train_preprocessed, y_train, groups = groups.iloc[train_idx])"
   ]
  },
  {
   "cell_type": "code",
   "execution_count": 93,
   "metadata": {},
   "outputs": [
    {
     "data": {
      "image/png": "[encoded data removed]",
      "text/plain": [
       "<Figure size 800x550 with 1 Axes>"
      ]
     },
     "metadata": {},
     "output_type": "display_data"
    }
   ],
   "source": [
    "results_rf = pd.DataFrame(grid_search_rf.cv_results_)\n",
    "\n",
    "scores = results_rf['mean_test_score'].unique().tolist()\n",
    "scores.sort(reverse=True)\n",
    "\n",
    "plt.hist(scores, bins=10, color='lightcoral', edgecolor='black')\n",
    "plt.title('Histogram of Random Forest R² Scores')\n",
    "plt.xlabel('R² Score')\n",
    "plt.ylabel('Frequency')\n",
    "plt.grid(True)\n",
    "plt.show()\n"
   ]
  },
  {
   "cell_type": "code",
   "execution_count": 51,
   "metadata": {},
   "outputs": [
    {
     "name": "stdout",
     "output_type": "stream",
     "text": [
      "Fitting 5 folds for each of 135 candidates, totalling 675 fits\n"
     ]
    },
    {
     "data": {
      "text/plain": [
       "GridSearchCV(cv=GroupKFold(n_splits=5),\n",
       "             estimator=Pipeline(steps=[('preprocessor',\n",
       "                                        ColumnTransformer(remainder='passthrough',\n",
       "                                                          transformers=[('one_hot',\n",
       "                                                                         OneHotEncoder(drop='first',\n",
       "                                                                                       handle_unknown='ignore'),\n",
       "                                                                         ['IMMIG',\n",
       "                                                                          'municipality_size',\n",
       "                                                                          'SCHLTYPE',\n",
       "                                                                          'external_evaluation',\n",
       "                                                                          'Gender',\n",
       "                                                                          'REPEAT',\n",
       "                                                                          'LANGN']),\n",
       "                                                                        ('scaler',\n",
       "                                                                         StandardScaler(),\n",
       "                                                                         ['HOMEPOS',\n",
       "                                                                          'ESCS',\n",
       "                                                                          'STUBEHA',\n",
       "                                                                          'TEAC...\n",
       "                                                     max_leaves=None,\n",
       "                                                     min_child_weight=None,\n",
       "                                                     missing=nan,\n",
       "                                                     monotone_constraints=None,\n",
       "                                                     multi_strategy=None,\n",
       "                                                     n_estimators=None,\n",
       "                                                     n_jobs=-1,\n",
       "                                                     num_parallel_tree=None,\n",
       "                                                     random_state=42, ...))]),\n",
       "             n_jobs=-1,\n",
       "             param_grid={'xgb__learning_rate': [0.001, 0.01, 0.05, 0.1, 0.3],\n",
       "                         'xgb__max_depth': [6, 10, 20],\n",
       "                         'xgb__n_estimators': [100, 200, 300],\n",
       "                         'xgb__reg_lambda': [0, 1.0, 10.0]},\n",
       "             scoring='r2', verbose=1)"
      ]
     },
     "execution_count": 51,
     "metadata": {},
     "output_type": "execute_result"
    }
   ],
   "source": [
    "grid_search_xgb = GridSearchCV(pipeline_xgb, param_grid_xgb, cv= gfk, n_jobs=-1, scoring='r2', verbose=1)\n",
    "grid_search_xgb.fit(X_train, y_train, groups = groups.iloc[train_idx])"
   ]
  },
  {
   "cell_type": "code",
   "execution_count": 52,
   "metadata": {},
   "outputs": [
    {
     "name": "stdout",
     "output_type": "stream",
     "text": [
      "Best parameters found: {'xgb__learning_rate': 0.05, 'xgb__max_depth': 6, 'xgb__n_estimators': 100, 'xgb__reg_lambda': 0}\n"
     ]
    }
   ],
   "source": [
    "print(\"Best parameters found:\", grid_search_xgb.best_params_)"
   ]
  },
  {
   "cell_type": "code",
   "execution_count": 59,
   "metadata": {},
   "outputs": [
    {
     "name": "stdout",
     "output_type": "stream",
     "text": [
      "Best R^2 score found: 0.2968508944122076\n"
     ]
    }
   ],
   "source": [
    "print(\"Best R^2 score found:\", grid_search_xgb.best_score_)"
   ]
  },
  {
   "cell_type": "code",
   "execution_count": 96,
   "metadata": {},
   "outputs": [
    {
     "data": {
      "image/png": "[encoded data removed]",
      "text/plain": [
       "<Figure size 800x550 with 1 Axes>"
      ]
     },
     "metadata": {},
     "output_type": "display_data"
    }
   ],
   "source": [
    "results_xgb = pd.DataFrame(grid_search_xgb.cv_results_)\n",
    "scores = results_xgb['mean_test_score'].unique().tolist()\n",
    "scores.sort(reverse=True)\n",
    "\n",
    "plt.hist(scores, bins=20, color='skyblue', edgecolor='black')\n",
    "plt.title('Histogram of XGBoost R² Scores')\n",
    "plt.xlabel('R² Score')\n",
    "plt.ylabel('Frequency')\n",
    "plt.grid(True)\n",
    "plt.show()"
   ]
  },
  {
   "cell_type": "code",
   "execution_count": 64,
   "metadata": {},
   "outputs": [],
   "source": []
  },
  {
   "cell_type": "code",
   "execution_count": null,
   "metadata": {},
   "outputs": [],
   "source": []
  }
 ],
 "metadata": {
  "kernelspec": {
   "display_name": "base",
   "language": "python",
   "name": "python3"
  },
  "language_info": {
   "codemirror_mode": {
    "name": "ipython",
    "version": 3
   },
   "file_extension": ".py",
   "mimetype": "text/x-python",
   "name": "python",
   "nbconvert_exporter": "python",
   "pygments_lexer": "ipython3",
   "version": "3.9.13"
  }
 },
 "nbformat": 4,
 "nbformat_minor": 2
}
