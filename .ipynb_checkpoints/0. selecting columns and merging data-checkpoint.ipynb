{
 "cells": [
  {
   "cell_type": "markdown",
   "metadata": {},
   "source": [
    "Part 1: Selecting country and columns, merging dataframes"
   ]
  },
  {
   "cell_type": "code",
   "execution_count": 2,
   "metadata": {},
   "outputs": [],
   "source": [
    "import pandas as pd\n",
    "import numpy as np"
   ]
  },
  {
   "cell_type": "code",
   "execution_count": 3,
   "metadata": {},
   "outputs": [
    {
     "name": "stdout",
     "output_type": "stream",
     "text": [
      "c:\\Users\\mw\\Desktop\\Thesis DSS\\data\n"
     ]
    }
   ],
   "source": [
    "\n",
    "# change current working directory given the following path:\n",
    "import os\n",
    "filepath = r'C:\\Users\\mw\\Desktop\\Thesis DSS\\data'\n",
    "os.chdir(filepath)\n",
    "print(os.getcwd())"
   ]
  },
  {
   "cell_type": "code",
   "execution_count": 17,
   "metadata": {},
   "outputs": [],
   "source": [
    "# columns of interest in the student and school dfs:\n",
    "st_cols= ['CNTSCHID','CNTSTUID', 'HOMEPOS', 'ICTRES', 'FAMSUPSL','FEELLAH', 'PROBSELF', \n",
    "        'SCHSUST','LEARRES', 'ESCS', 'PV1MATH', 'GRADE', 'ISCEDP','REPEAT',\n",
    "        'IMMIG', 'LANGN', 'TEACHSUP', 'FAMSUP', 'ST004D01T', 'HISCED']\n",
    "\n",
    "sch_cols = ['CNT','CNTSCHID','SCHLTYPE', 'CLSIZE', 'RATCMP1', 'SCHAUTO', \n",
    "            'TCHPART', 'EDUSHORT','STAFFSHORT','STRATIO', 'STUBEHA','TEACHBEHA', 'SC211Q03JA', 'SC037Q02TA', \n",
    "            'SC187Q04WA','SC001Q01TA', 'PROPSUPP', 'SCHSIZE', 'SMRATIO', 'MCLSIZE', \n",
    "            'PROATCE', 'SCSUPRTED','INSTLEAD', 'PROBSCRI', 'SCPREPAP','DIGPREP']"
   ]
  },
  {
   "cell_type": "code",
   "execution_count": 18,
   "metadata": {},
   "outputs": [
    {
     "name": "stdout",
     "output_type": "stream",
     "text": [
      "(21629, 26)\n",
      "(613744, 20)\n"
     ]
    }
   ],
   "source": [
    "\n",
    "# loading the school and student df:\n",
    "school_df_2022 = pd.read_spss('sch_22_qq.sav', usecols = sch_cols)\n",
    "student_df_2022 = pd.read_spss('stu_22_qq.sav', usecols=st_cols)\n",
    "print(school_df_2022.shape)\n",
    "print(student_df_2022.shape)"
   ]
  },
  {
   "cell_type": "code",
   "execution_count": 19,
   "metadata": {},
   "outputs": [
    {
     "name": "stdout",
     "output_type": "stream",
     "text": [
      "(613744, 45)\n"
     ]
    }
   ],
   "source": [
    "# merging the two datasets: \n",
    "data_merged = pd.merge(student_df_2022, school_df_2022, on= 'CNTSCHID') \n",
    "data_merged = data_merged.drop_duplicates()\n",
    "print(data_merged.shape)"
   ]
  },
  {
   "cell_type": "code",
   "execution_count": 20,
   "metadata": {},
   "outputs": [
    {
     "data": {
      "text/plain": [
       "(10552, 45)"
      ]
     },
     "execution_count": 20,
     "metadata": {},
     "output_type": "execute_result"
    }
   ],
   "source": [
    "# select a subset of countries:\n",
    "data_2022 = data_merged[data_merged['CNT'].isin(['Italy'])]\n",
    "data_2022.shape"
   ]
  },
  {
   "cell_type": "code",
   "execution_count": 21,
   "metadata": {},
   "outputs": [],
   "source": [
    "data_2022 = data_2022.drop(['CNT'], axis=1)"
   ]
  },
  {
   "cell_type": "code",
   "execution_count": 22,
   "metadata": {},
   "outputs": [
    {
     "data": {
      "text/plain": [
       "(10552, 44)"
      ]
     },
     "execution_count": 22,
     "metadata": {},
     "output_type": "execute_result"
    }
   ],
   "source": [
    "data_2022.shape"
   ]
  },
  {
   "cell_type": "code",
   "execution_count": 23,
   "metadata": {},
   "outputs": [],
   "source": [
    "# saving data_22 to csv for convenience: \n",
    "data_2022.to_csv('italy_2022.csv', index = False)"
   ]
  }
 ],
 "metadata": {
  "kernelspec": {
   "display_name": "base",
   "language": "python",
   "name": "python3"
  },
  "language_info": {
   "codemirror_mode": {
    "name": "ipython",
    "version": 3
   },
   "file_extension": ".py",
   "mimetype": "text/x-python",
   "name": "python",
   "nbconvert_exporter": "python",
   "pygments_lexer": "ipython3",
   "version": "3.9.13"
  }
 },
 "nbformat": 4,
 "nbformat_minor": 2
}
